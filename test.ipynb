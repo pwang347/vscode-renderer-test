{
 "cells": [
  {
   "cell_type": "code",
   "execution_count": null,
   "metadata": {},
   "outputs": [],
   "source": [
    "from IPython import display\n",
    "import json\n",
    "\n",
    "issues = [{\n",
    "        \"url\": \"https://github.com/project/repo/issue/123\",\n",
    "        \"title\": \"Bug A\",\n",
    "        \"body\": \"Bug A description...\"\n",
    "    },\n",
    "    {\n",
    "        \"url\": \"https://github.com/project/repo/issue/456\",\n",
    "        \"title\": \"Bug B\",\n",
    "        \"body\": \"Bug B description...\"\n",
    "    }]\n",
    "\n",
    "display.display({\n",
    "    \"x-application/github-issues\": json.dumps(issues),\n",
    "    \"application/json\": json.dumps(issues, indent=2),\n",
    "    \"text/html\": \"<h1>[html] \" + \", \".join([i[\"title\"] for i in issues]) + \"</h1>\",\n",
    "    \"text/plain\": \"[plain] \" + \", \".join([i[\"url\"] for i in issues]),\n",
    "}, raw=True)"
   ]
  }
 ],
 "metadata": {
  "language_info": {
   "name": "python"
  },
  "orig_nbformat": 4
 },
 "nbformat": 4,
 "nbformat_minor": 2
}
